{
 "cells": [
  {
   "cell_type": "code",
   "execution_count": 1,
   "id": "1c83f2e9",
   "metadata": {},
   "outputs": [
    {
     "name": "stdout",
     "output_type": "stream",
     "text": [
      "Alice's marks: 85\n"
     ]
    }
   ],
   "source": [
    "# ASSIGNMENT 5:\n",
    "# Module 6: Data Structures and Strings in Python\n",
    " \n",
    "# Task 1: Create a Dictionary of Student Marks\n",
    "# 1.   Creates a dictionary where student names are keys and their marks are values.\n",
    "student_marks = {\n",
    "    \"Alice\": 85,\n",
    "    \"Bob\": 92,\n",
    "    \"Charlie\": 78,\n",
    "    \"Diana\": 90,\n",
    "    \"Ethan\": 88\n",
    "}\n",
    "\n",
    "# 2.   Asks the user to input a student's name.\n",
    "student_name = input(\"Enter the student's name: \")\n",
    "\n",
    "\n",
    "# 3.   Retrieves and displays the corresponding marks.\n",
    "# 4.   If the student’s name is not found, display an appropriate \n",
    "if student_name in student_marks:\n",
    "    print(f\"{student_name}'s marks: {student_marks[student_name]}\")\n",
    "else:\n",
    "    print(f\"Student named '{student_name}' not found.\")"
   ]
  },
  {
   "cell_type": "code",
   "execution_count": 6,
   "id": "4df13250",
   "metadata": {},
   "outputs": [
    {
     "name": "stdout",
     "output_type": "stream",
     "text": [
      "[1, 2, 3, 4, 5, 6, 7, 8, 9, 10]\n",
      "First five elements: [1, 2, 3, 4, 5]\n",
      "Reversed first five elements: [5, 4, 3, 2, 1]\n"
     ]
    }
   ],
   "source": [
    "# Task 2: Demonstrate List Slicing \n",
    "\n",
    "# Step 1: Create a list of numbers from 1 to 10\n",
    "numbers = list(range(1, 11))\n",
    "print(numbers)\n",
    "\n",
    "# Step 2: Extract the first five elements\n",
    "first_five = numbers[:5]\n",
    "\n",
    "# Step 3: Reverse the extracted elements\n",
    "reversed_first_five = first_five[::-1]\n",
    "\n",
    "# Step 4: Print both the extracted list and the reversed list\n",
    "print(\"First five elements:\", first_five)\n",
    "print(\"Reversed first five elements:\", reversed_first_five)\n"
   ]
  },
  {
   "cell_type": "code",
   "execution_count": null,
   "id": "aae3738c",
   "metadata": {},
   "outputs": [],
   "source": []
  }
 ],
 "metadata": {
  "kernelspec": {
   "display_name": "Python 3",
   "language": "python",
   "name": "python3"
  },
  "language_info": {
   "codemirror_mode": {
    "name": "ipython",
    "version": 3
   },
   "file_extension": ".py",
   "mimetype": "text/x-python",
   "name": "python",
   "nbconvert_exporter": "python",
   "pygments_lexer": "ipython3",
   "version": "3.13.2"
  }
 },
 "nbformat": 4,
 "nbformat_minor": 5
}
